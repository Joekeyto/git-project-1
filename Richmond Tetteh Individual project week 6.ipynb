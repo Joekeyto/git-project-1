{
 "cells": [
  {
   "cell_type": "code",
   "execution_count": 16,
   "id": "254e2672",
   "metadata": {},
   "outputs": [
    {
     "name": "stdout",
     "output_type": "stream",
     "text": [
      "Please enter an initial stock level: 1\n",
      "Please enter the number of months to plan: 1\n",
      "Please enter the planned sales quantity for month 1: 1\n",
      "\n",
      "Production quantity month 1  -  0\n"
     ]
    }
   ],
   "source": [
    "#The first step is colleciting initial_stock and number_of_months from the user\n",
    "initial_stock = int(input(\"Please enter an initial stock level: \"))\n",
    "number_of_months = int(input(\"Please enter the number of months to plan: \"))\n",
    "\n",
    "#declaring the list to store number of months quantity\n",
    "sales_quantity = []\n",
    "Months = 1\n",
    "for index in range(number_of_months):\n",
    "    qty = int(input(\"Please enter the planned sales quantity for month {0}: \".format(Months)))\n",
    "    Months += 1\n",
    "    sales_quantity.append(qty)\n",
    "    \n",
    "    \n",
    "\n",
    "#declare list which store result\n",
    "production_quantity = []\n",
    "\n",
    "# iterating quantities and calculating the production_quantity\n",
    "\n",
    "for sqs in sales_quantity:\n",
    "    if initial_stock > sqs:\n",
    "        production_quantity.append(0)\n",
    "        initial_stock = initial_stock - sqs\n",
    "    elif initial_stock < 0:\n",
    "        production_quantity.append(ind)\n",
    "    else:\n",
    "        initial_stock = initial_stock - sqs\n",
    "        production_quantity.append(abs(initial_stock))\n",
    "        \n",
    "        \n",
    "\n",
    "print()        \n",
    "#print the result\n",
    "i = 1\n",
    "for x in production_quantity:\n",
    "    print(\"Production quantity month\", i, \" - \", x)\n",
    "    i = i +1"
   ]
  },
  {
   "cell_type": "code",
   "execution_count": null,
   "id": "c8bc374b",
   "metadata": {},
   "outputs": [],
   "source": []
  },
  {
   "cell_type": "code",
   "execution_count": null,
   "id": "b3c413f7",
   "metadata": {},
   "outputs": [],
   "source": []
  },
  {
   "cell_type": "code",
   "execution_count": null,
   "id": "dfe3d243",
   "metadata": {},
   "outputs": [],
   "source": []
  }
 ],
 "metadata": {
  "kernelspec": {
   "display_name": "Python 3 (ipykernel)",
   "language": "python",
   "name": "python3"
  },
  "language_info": {
   "codemirror_mode": {
    "name": "ipython",
    "version": 3
   },
   "file_extension": ".py",
   "mimetype": "text/x-python",
   "name": "python",
   "nbconvert_exporter": "python",
   "pygments_lexer": "ipython3",
   "version": "3.9.12"
  }
 },
 "nbformat": 4,
 "nbformat_minor": 5
}
